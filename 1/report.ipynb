{
 "cells": [
  {
   "cell_type": "markdown",
   "metadata": {},
   "source": [
    "# Домашнее задание №1: Введение в HPC"
   ]
  },
  {
   "cell_type": "markdown",
   "metadata": {},
   "source": [
    "**Выполнил:** Дмитрий Клебанов, ML-32"
   ]
  },
  {
   "cell_type": "markdown",
   "metadata": {},
   "source": [
    "**Задание:**\n",
    "\n",
    "1. Написать эссе (1-2 страницы) по применениям суперкомпьютеров в науке, индустрии и бизнесе. Можно выбрать интересный пример из интернета и описать. Опишите также как, на ваш взгляд, применение суперкомпьютеров и параллельных вычислений пригодится вам в карьере.\n",
    "2. Используя данные с сайта top500.org (statistics/performance development) попробуйте предсказать вычислительную мощность компьютера #1 и компьютера #500. (численное значение - 50 процентов от задания, численное значение + график - 100 процентов от задания)"
   ]
  },
  {
   "cell_type": "markdown",
   "metadata": {},
   "source": [
    "**Часть 1**"
   ]
  },
  {
   "cell_type": "markdown",
   "metadata": {},
   "source": [
    "### Геологоразведка\n",
    "\n",
    "Современная вычислительная техника позволяет находить труднодоступную нефть, например залегающую на шельфе\n",
    "Одной из важнейших областей, где находят свое применение суперкомпьютеры (или, как их называют по-другому, высокопроизводительные многопроцессорные вычислительные системы), является нефтегазовая отрасль. Она предлагает широкий круг очень сложных задач.\n",
    "\n",
    "Исторически эти задачи решались весьма приближенными методами, например геометрическими или аналитическими решениями линеаризованных упрощенных уравнений. Это сыграло очень важную роль в сейсморазведке, в геологии, но в последние 10-20 лет, благодаря внедрению многопроцессорной вычислительной техники, появилась возможность решать геологические задачи полностью.\n",
    "\n",
    "В первую очередь с помощью суперкомпьютеров стало возможным решать задачи механики сплошных сред и моделировать поведение геофизической среды, содержащей углеводороды. В геологической разведке различают прямые и обратные задачи. Так, при решении задач электроразведки решается система уравнений Максвелла электродинамики сплошных сред. А при акустической сейсморазведке решается динамическая система уравнений механики сплошных сред.\n",
    "\n",
    "С помощью прямых задач исследуются волновые процессы, которые происходят в геологической среде, которая, как правило, гетерогенна и многослойна. Флюид (нефть) часто находится в трещиноватых пластах, то есть в трещинах и между ними. Вычислительная техника позволяет все эти неоднородности описать методами механики и математики. Это довольно сложная задача даже с точки зрения специалиста по моделированию. Это непростая задача и с точки зрения построения системы определяющих уравнений, поскольку в них входят и уравнения теории упругости, и уравнения акустики, учитывающие геофизические особенности среды. Кроме того, приходится решать задачи контактного разрыва из-за большого количества поверхностей разделов сред, что обусловлено многослойностью геосреды и контактами между жидкостью и твердыми телами.\n",
    "\n",
    "Нефтегазовые резервуары дают отклик в виде сейсмосигнала на поверхности земли (дневной поверхности). Необходимо аккуратно описать прохождение сигнала с дневной поверхности и обратно — математически, механически и численно, затем реализовать расчетную программу. После чего этот отклик и волновые поля необходимо изобразить с помощью программ визуализации.\n",
    "\n",
    "Тогда вся картина, которая происходит в геологической среде, будет описана.\n",
    "\n",
    "Также важны обратные задачи. Их суть состоит в том, чтобы по решениям прямых задач вычислить все характеристики неоднородностей. В случае нефтяного пласта — где он находится, каковы его геометрические размеры, физические характеристики, и, разумеется, нефтяников всегда интересует оценка объемов углеводородов, которые находятся в исследуемых месторождениях.\n",
    "\n",
    "Все эти важнейшие практические задачи решаются путем сопоставления расчетных и экспериментальных данных сейсморазведки, т. е. расчетных и экспериментальных сейсмограмм.\n",
    "\n",
    "Очень важными являются задачи нефтегазовой разведки перспективной арктической зоны. Это наши шельфовые зоны, северные моря, а также Северный полюс, за который сейчас идут дипломатические споры между северными государствами. Там тоже возникает целый ряд интереснейших задач как фундаментальных, так и прикладных, инженерных.\n",
    "\n",
    "### Применение суперкомпьютеров в карьере\n",
    "\n",
    "На мой взгляд, умение работать с суперкомпьютером является обязательным навыком для Data Scientist-ов / ML-инжереров, т.к. в процессе работы будут возникать ситуации, в которых необходимо работать с большим объемом данных. Навык правильного написания программ для обработки данных на супер компьютерах, а также понимание принципов параллельных вычислений и работы супер компьютеров помогут быстрее и эффективнее с точки зрения затрачиваемых ресурсов железа выполнять поставленные заказчиком задачи."
   ]
  },
  {
   "cell_type": "markdown",
   "metadata": {},
   "source": [
    "**Часть 2**"
   ]
  },
  {
   "cell_type": "code",
   "execution_count": 1,
   "metadata": {},
   "outputs": [],
   "source": [
    "import pandas as pd\n",
    "import numpy as np\n",
    "import matplotlib.pyplot as plt"
   ]
  },
  {
   "cell_type": "code",
   "execution_count": 2,
   "metadata": {},
   "outputs": [],
   "source": [
    "pc_numbers = (1, 500)"
   ]
  },
  {
   "cell_type": "code",
   "execution_count": 3,
   "metadata": {},
   "outputs": [],
   "source": [
    "dfs = {}\n",
    "for number in pc_numbers:\n",
    "    dfs[number] = pd.read_csv(f'data/{number}.csv')        "
   ]
  },
  {
   "cell_type": "code",
   "execution_count": 4,
   "metadata": {},
   "outputs": [
    {
     "data": {
      "text/html": [
       "<div>\n",
       "<style scoped>\n",
       "    .dataframe tbody tr th:only-of-type {\n",
       "        vertical-align: middle;\n",
       "    }\n",
       "\n",
       "    .dataframe tbody tr th {\n",
       "        vertical-align: top;\n",
       "    }\n",
       "\n",
       "    .dataframe thead th {\n",
       "        text-align: right;\n",
       "    }\n",
       "</style>\n",
       "<table border=\"1\" class=\"dataframe\">\n",
       "  <thead>\n",
       "    <tr style=\"text-align: right;\">\n",
       "      <th></th>\n",
       "      <th>Year</th>\n",
       "      <th>Month</th>\n",
       "      <th>Flops</th>\n",
       "    </tr>\n",
       "  </thead>\n",
       "  <tbody>\n",
       "    <tr>\n",
       "      <th>0</th>\n",
       "      <td>1993</td>\n",
       "      <td>6</td>\n",
       "      <td>5.970000e+11</td>\n",
       "    </tr>\n",
       "    <tr>\n",
       "      <th>1</th>\n",
       "      <td>1993</td>\n",
       "      <td>11</td>\n",
       "      <td>1.240000e+12</td>\n",
       "    </tr>\n",
       "    <tr>\n",
       "      <th>2</th>\n",
       "      <td>1994</td>\n",
       "      <td>6</td>\n",
       "      <td>1.434000e+12</td>\n",
       "    </tr>\n",
       "    <tr>\n",
       "      <th>3</th>\n",
       "      <td>1994</td>\n",
       "      <td>11</td>\n",
       "      <td>1.700000e+12</td>\n",
       "    </tr>\n",
       "    <tr>\n",
       "      <th>4</th>\n",
       "      <td>1995</td>\n",
       "      <td>6</td>\n",
       "      <td>1.700000e+12</td>\n",
       "    </tr>\n",
       "  </tbody>\n",
       "</table>\n",
       "</div>"
      ],
      "text/plain": [
       "   Year  Month         Flops\n",
       "0  1993      6  5.970000e+11\n",
       "1  1993     11  1.240000e+12\n",
       "2  1994      6  1.434000e+12\n",
       "3  1994     11  1.700000e+12\n",
       "4  1995      6  1.700000e+12"
      ]
     },
     "execution_count": 4,
     "metadata": {},
     "output_type": "execute_result"
    }
   ],
   "source": [
    "dfs[1].head()"
   ]
  },
  {
   "cell_type": "code",
   "execution_count": 5,
   "metadata": {},
   "outputs": [
    {
     "name": "stdout",
     "output_type": "stream",
     "text": [
      "In 2025 top 1 HPC will have [1.14445095e+11] GFlop/s.\n",
      "In 2025 top 500 HPC will have [4.92648933e+08] GFlop/s.\n"
     ]
    },
    {
     "data": {
      "image/png": "[encoded data removed]",
      "text/plain": [
       "<Figure size 432x288 with 1 Axes>"
      ]
     },
     "metadata": {
      "needs_background": "light"
     },
     "output_type": "display_data"
    }
   ],
   "source": [
    "from sklearn.linear_model import Ridge\n",
    "\n",
    "years = np.array((2025, ))\n",
    "\n",
    "for number, df in dfs.items():\n",
    "    X = np.array(df.loc[:, 'Year'] + df.loc[:, 'Month'] / 12)\n",
    "    y = np.array(df.loc[:, 'Flops'] / 1e9)\n",
    "    y = np.log(y)\n",
    "    \n",
    "    model = Ridge()\n",
    "    model.fit(X.reshape((X.shape[0], 1)), y)\n",
    "    preds = model.predict(years.reshape((years.shape[0], 1)))\n",
    "    preds = np.exp(preds)\n",
    "                 \n",
    "    for year, pred in zip(years, preds):\n",
    "        print(f'In {year} top {number} HPC will have {preds} GFlop/s.')\n",
    "                 \n",
    "    model_x = np.linspace(1993, 2020, 100)\n",
    "    model_y = np.exp(model_x * model.coef_ + model.intercept_)\n",
    "    plt.plot(model_x, model_y, label=f'model on top {number}')\n",
    "    y = np.exp(y)\n",
    "    plt.plot(X, y, 'o', label=f'top {number}')\n",
    "    \n",
    "plt.xlabel('year')\n",
    "plt.ylabel('GFlop/s')\n",
    "plt.yscale('log')\n",
    "plt.grid(True)\n",
    "plt.legend()\n",
    "plt.show()"
   ]
  }
 ],
 "metadata": {
  "kernelspec": {
   "display_name": "Python 3",
   "language": "python",
   "name": "python3"
  },
  "language_info": {
   "codemirror_mode": {
    "name": "ipython",
    "version": 3
   },
   "file_extension": ".py",
   "mimetype": "text/x-python",
   "name": "python",
   "nbconvert_exporter": "python",
   "pygments_lexer": "ipython3",
   "version": "3.7.7"
  }
 },
 "nbformat": 4,
 "nbformat_minor": 4
}
